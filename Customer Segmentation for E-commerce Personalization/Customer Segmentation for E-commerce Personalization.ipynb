{
 "cells": [
  {
   "cell_type": "code",
   "execution_count": 31,
   "id": "05482791",
   "metadata": {},
   "outputs": [],
   "source": [
    "import numpy as np\n",
    "import pandas as pd\n",
    "import matplotlib.pyplot as plt\n",
    "import seaborn as sns\n",
    "import datetime as dt\n",
    "import os\n",
    "from sklearn.preprocessing import MinMaxScaler\n",
    "from sklearn.cluster import KMeans\n",
    "from sklearn.metrics import silhouette_score\n",
    "from sklearn.decomposition import PCA\n",
    "from sklearn.preprocessing import StandardScaler"
   ]
  },
  {
   "cell_type": "code",
   "execution_count": 6,
   "id": "11473ee4",
   "metadata": {},
   "outputs": [],
   "source": [
    "class Statical_functions():\n",
    "    def __init__(self):\n",
    "        pass\n",
    "    \n",
    "    def read_data(self):\n",
    "        \n",
    "        \"\"\"\n",
    "        Read data from different file formats such as CSV, Excel, or JSON.\n",
    "\n",
    "        Returns:\n",
    "        - pd.DataFrame: The loaded dataset.\n",
    "        \"\"\"\n",
    "        file_path = input(\"Please enter the path to the data file: \")\n",
    "        file_extension = os.path.splitext(file_path)[1].lower()[1:]\n",
    "\n",
    "        if file_extension == 'csv':\n",
    "            return pd.read_csv(file_path)\n",
    "        elif file_extension in ['xls', 'xlsx']:\n",
    "            return pd.read_excel(file_path)\n",
    "        elif file_extension == 'json':\n",
    "            return pd.read_json(file_path)\n",
    "        else:\n",
    "            raise ValueError(f\"Unsupported file format. Supported formats: CSV, Excel, JSON.\")\n",
    "    \n",
    "    \n",
    "    def drop_columns(self,data):\n",
    "        print('wtite the columns to be droped: ')\n",
    "        droped_columns=[]\n",
    "        while True:\n",
    "            droped_column = input('Write the column names you want to drop from the data. If you finish, press q: ')\n",
    "        \n",
    "            if droped_column == 'q':\n",
    "                break\n",
    "            droped_columns.append(droped_column)\n",
    "        return data.drop(columns=droped_columns, axis=1)\n",
    "    \n",
    "    def statical_summary(self,data):\n",
    "        print(data.head())\n",
    "        print(\"##################Describeing the Data#################\")\n",
    "        print(data.describe())\n",
    "        print(\"##################Columns in the Data#################\")\n",
    "        print(data.columns)\n",
    "        print(\"##################before droping null values from the Data#################\")\n",
    "        print(data.isnull().sum())\n",
    "        print('Drop null values')\n",
    "        data=data.dropna()\n",
    "        print(\"##################after droping null values from the Data#################\")\n",
    "        print(data.isnull().sum())\n",
    "        \n",
    "    \n",
    "\n",
    "    def Handeling_missing_values(self,data):\n",
    "        print('num of null in the data given : ')\n",
    "        print(data.isnull().sum())\n",
    "    \n",
    "         # Separate numerical and categorical columns\n",
    "        numerical_columns = data.select_dtypes(include=['number']).columns\n",
    "        categorical_columns = data.select_dtypes(exclude=['number']).columns\n",
    "    \n",
    "        # Fill null values with mean for numerical columns\n",
    "        for col in numerical_columns:\n",
    "            if data[col].isnull().any():\n",
    "                data[col].fillna(data[col].mean(), inplace=True)\n",
    "    \n",
    "        # Fill null values with median for categorical columns\n",
    "        for col in categorical_columns:\n",
    "            if data[col].isnull().any():\n",
    "                data[col].fillna(data[col].mode()[0], inplace=True)\n",
    "\n",
    "        print('After filling null values:')\n",
    "        print(data.isnull().sum())\n",
    "\n",
    "    \n",
    "    def Categorical_Data_Encoding(self,data):\n",
    "    \n",
    "        # Initialize LabelEncoder and OneHotEncoder\n",
    "        label_enc = LabelEncoder()\n",
    "        onehot_enc = OneHotEncoder(drop='first', sparse=False)  # Drop first to avoid dummy variable trap\n",
    "\n",
    "        # Separate numerical and categorical columns\n",
    "        categorical_columns = data.select_dtypes(exclude=['number']).columns\n",
    "\n",
    "        # Encode categorical columns using LabelEncoder\n",
    "        for col in categorical_columns:\n",
    "            if data[col].nunique() > 2:  # Use LabelEncoder for binary categorical columns\n",
    "                data[col] = label_enc.fit_transform(data[col])\n",
    "        \n",
    "        # Apply OneHotEncoder to categorical columns with more than 2 unique values\n",
    "        data_encoded = pd.get_dummies(data, columns=categorical_columns, drop_first=True)\n",
    "    \n",
    "        return data_encoded\n",
    "    \n",
    "            \n",
    "    \n",
    "    "
   ]
  },
  {
   "cell_type": "code",
   "execution_count": 7,
   "id": "d9d62e61",
   "metadata": {},
   "outputs": [],
   "source": [
    "data=Statical_functions()"
   ]
  },
  {
   "cell_type": "code",
   "execution_count": 9,
   "id": "967011c7",
   "metadata": {},
   "outputs": [
    {
     "name": "stdout",
     "output_type": "stream",
     "text": [
      "Please enter the path to the data file: E:\\ElectroPi\\CustomerSegmentationforE-commercePersonalization\\OnlineRetail.xlsx\n"
     ]
    }
   ],
   "source": [
    "df=data.read_data()\n",
    "#E:\\ElectroPi\\CustomerSegmentationforE-commercePersonalization\\OnlineRetail.xlsx"
   ]
  },
  {
   "cell_type": "code",
   "execution_count": 10,
   "id": "5bb5e708",
   "metadata": {},
   "outputs": [
    {
     "data": {
      "text/plain": [
       "Index(['InvoiceNo', 'StockCode', 'Description', 'Quantity', 'InvoiceDate',\n",
       "       'UnitPrice', 'CustomerID', 'Country'],\n",
       "      dtype='object')"
      ]
     },
     "execution_count": 10,
     "metadata": {},
     "output_type": "execute_result"
    }
   ],
   "source": [
    "df.columns"
   ]
  },
  {
   "cell_type": "code",
   "execution_count": 11,
   "id": "46ebb1a2",
   "metadata": {},
   "outputs": [
    {
     "name": "stdout",
     "output_type": "stream",
     "text": [
      "  InvoiceNo StockCode                          Description  Quantity  \\\n",
      "0    536365    85123A   WHITE HANGING HEART T-LIGHT HOLDER         6   \n",
      "1    536365     71053                  WHITE METAL LANTERN         6   \n",
      "2    536365    84406B       CREAM CUPID HEARTS COAT HANGER         8   \n",
      "3    536365    84029G  KNITTED UNION FLAG HOT WATER BOTTLE         6   \n",
      "4    536365    84029E       RED WOOLLY HOTTIE WHITE HEART.         6   \n",
      "\n",
      "          InvoiceDate  UnitPrice  CustomerID         Country  \n",
      "0 2010-12-01 08:26:00       2.55     17850.0  United Kingdom  \n",
      "1 2010-12-01 08:26:00       3.39     17850.0  United Kingdom  \n",
      "2 2010-12-01 08:26:00       2.75     17850.0  United Kingdom  \n",
      "3 2010-12-01 08:26:00       3.39     17850.0  United Kingdom  \n",
      "4 2010-12-01 08:26:00       3.39     17850.0  United Kingdom  \n",
      "##################Describeing the Data#################\n",
      "            Quantity                    InvoiceDate      UnitPrice  \\\n",
      "count  541909.000000                         541909  541909.000000   \n",
      "mean        9.552250  2011-07-04 13:34:57.156386048       4.611114   \n",
      "min    -80995.000000            2010-12-01 08:26:00  -11062.060000   \n",
      "25%         1.000000            2011-03-28 11:34:00       1.250000   \n",
      "50%         3.000000            2011-07-19 17:17:00       2.080000   \n",
      "75%        10.000000            2011-10-19 11:27:00       4.130000   \n",
      "max     80995.000000            2011-12-09 12:50:00   38970.000000   \n",
      "std       218.081158                            NaN      96.759853   \n",
      "\n",
      "          CustomerID  \n",
      "count  406829.000000  \n",
      "mean    15287.690570  \n",
      "min     12346.000000  \n",
      "25%     13953.000000  \n",
      "50%     15152.000000  \n",
      "75%     16791.000000  \n",
      "max     18287.000000  \n",
      "std      1713.600303  \n",
      "##################Columns in the Data#################\n",
      "Index(['InvoiceNo', 'StockCode', 'Description', 'Quantity', 'InvoiceDate',\n",
      "       'UnitPrice', 'CustomerID', 'Country'],\n",
      "      dtype='object')\n",
      "##################before droping null values from the Data#################\n",
      "InvoiceNo           0\n",
      "StockCode           0\n",
      "Description      1454\n",
      "Quantity            0\n",
      "InvoiceDate         0\n",
      "UnitPrice           0\n",
      "CustomerID     135080\n",
      "Country             0\n",
      "dtype: int64\n",
      "Drop null values\n",
      "##################after droping null values from the Data#################\n",
      "InvoiceNo      0\n",
      "StockCode      0\n",
      "Description    0\n",
      "Quantity       0\n",
      "InvoiceDate    0\n",
      "UnitPrice      0\n",
      "CustomerID     0\n",
      "Country        0\n",
      "dtype: int64\n"
     ]
    }
   ],
   "source": [
    "data.statical_summary(df)"
   ]
  },
  {
   "cell_type": "code",
   "execution_count": 12,
   "id": "632f70bc",
   "metadata": {},
   "outputs": [
    {
     "name": "stdout",
     "output_type": "stream",
     "text": [
      "CustomerID\n",
      "12346.0          0.00\n",
      "12347.0       4310.00\n",
      "12348.0       1797.24\n",
      "12349.0       1757.55\n",
      "12350.0        334.40\n",
      "              ...    \n",
      "18281.0         80.82\n",
      "18282.0        176.60\n",
      "18283.0       2094.88\n",
      "18287.0       1837.28\n",
      "nan        1447682.12\n",
      "Name: Amount, Length: 4373, dtype: float64\n"
     ]
    }
   ],
   "source": [
    "#data preprocessing \n",
    "#to get total price for each custumer\n",
    "df['CustomerID'] = df['CustomerID'].astype(str)\n",
    "df['Amount'] = df['Quantity']*df['UnitPrice']#total price for each unit\n",
    "total_price = df.groupby('CustomerID')['Amount'].sum()#aggregates the total amount spent by each customer across all their transactions\n",
    "total_price.reset_index()#to make 'CustomerID' column becomes a regular column again instead of being used as the index.\n",
    "total_price.columns = ['CustomerID', 'Amount']\n",
    "print(total_price)\n"
   ]
  },
  {
   "cell_type": "code",
   "execution_count": 13,
   "id": "5814933c",
   "metadata": {},
   "outputs": [
    {
     "name": "stdout",
     "output_type": "stream",
     "text": [
      "     CustomerID  Frequency\n",
      "0       12346.0          2\n",
      "1       12347.0        182\n",
      "2       12348.0         31\n",
      "3       12349.0         73\n",
      "4       12350.0         17\n",
      "...         ...        ...\n",
      "4368    18281.0          7\n",
      "4369    18282.0         13\n",
      "4370    18283.0        756\n",
      "4371    18287.0         70\n",
      "4372        nan     135080\n",
      "\n",
      "[4373 rows x 2 columns]\n"
     ]
    }
   ],
   "source": [
    "#calculates the frequency of transactions for each customer\n",
    "freq_data = df.groupby('CustomerID')['InvoiceNo'].count()\n",
    "freq_data = freq_data.reset_index()\n",
    "freq_data.columns = ['CustomerID', 'Frequency']\n",
    "print(freq_data)"
   ]
  },
  {
   "cell_type": "code",
   "execution_count": 14,
   "id": "d5203e3f",
   "metadata": {},
   "outputs": [
    {
     "name": "stdout",
     "output_type": "stream",
     "text": [
      "     CustomerID  Diff\n",
      "0       12346.0   325\n",
      "1       12347.0     1\n",
      "2       12348.0    74\n",
      "3       12349.0    18\n",
      "4       12350.0   309\n",
      "...         ...   ...\n",
      "4368    18281.0   180\n",
      "4369    18282.0     7\n",
      "4370    18283.0     3\n",
      "4371    18287.0    42\n",
      "4372        nan     0\n",
      "\n",
      "[4373 rows x 2 columns]\n"
     ]
    }
   ],
   "source": [
    "df['InvoiceDate'] = pd.to_datetime(df['InvoiceDate'],format='%d-%m-%Y %H:%M')#convert it to datetime format\n",
    "max_date = max(df['InvoiceDate'])#give us the most recent date\n",
    "df['Diff'] = max_date - df['InvoiceDate']#give us how recent each transaction occurred relative to the most recent date\n",
    "\n",
    "transictions_amount = df.groupby('CustomerID')['Diff'].min()\n",
    "#calculates the minimum value of the 'Diff' column within each group.\n",
    "#This effectively gives us the minimum recency value for each customer, how recently each customer made a purchase.\n",
    "\n",
    "transictions_amount = transictions_amount.reset_index()\n",
    "transictions_amount.columns = ['CustomerID','Diff']\n",
    "\n",
    "transictions_amount['Diff'] = transictions_amount['Diff'].dt.days\n",
    "#extracts the number of days from the timedeltas in the 'Diff' column and assigns it back to the 'Diff' column.\n",
    "#This ensures that the recency is represented in days rather than timedelta format.\n",
    "\n",
    "\n",
    "print(transictions_amount)"
   ]
  },
  {
   "cell_type": "code",
   "execution_count": 15,
   "id": "54492b6a",
   "metadata": {},
   "outputs": [
    {
     "name": "stdout",
     "output_type": "stream",
     "text": [
      "  CustomerID   Amount  Frequency  Recency\n",
      "0    12346.0     0.00          2      325\n",
      "1    12347.0  4310.00        182        1\n",
      "2    12348.0  1797.24         31       74\n",
      "3    12349.0  1757.55         73       18\n",
      "4    12350.0   334.40         17      309\n"
     ]
    }
   ],
   "source": [
    "#merge the new columns\n",
    "New_data = pd.merge(total_price,freq_data,on='CustomerID',how='inner')\n",
    "New_data = pd.merge(New_data,transictions_amount,on='CustomerID',how='inner')\n",
    "New_data.columns = ['CustomerID', 'Amount', 'Frequency', 'Recency']\n",
    "print(New_data.head())"
   ]
  },
  {
   "cell_type": "code",
   "execution_count": 16,
   "id": "3882f40e",
   "metadata": {},
   "outputs": [],
   "source": [
    "Q1 = New_data.Amount.quantile(0.05)\n",
    "Q3 = New_data.Amount.quantile(0.95)\n",
    "IQR = Q3 - Q1\n",
    "New_data = New_data[(New_data.Amount >= Q1 - 1.5*IQR) & (New_data.Amount <= Q3 + 1.5*IQR)]\n",
    "\n",
    "Q1 = New_data.Recency.quantile(0.05)\n",
    "Q3 = New_data.Recency.quantile(0.95)\n",
    "IQR = Q3 - Q1\n",
    "New_data = New_data[(New_data.Recency >= Q1 - 1.5*IQR) & (New_data.Recency <= Q3 + 1.5*IQR)]\n",
    "\n",
    "Q1 = New_data.Frequency.quantile(0.05)\n",
    "Q3 = New_data.Frequency.quantile(0.95)\n",
    "IQR = Q3 - Q1\n",
    "New_data = New_data[(New_data.Frequency >= Q1 - 1.5*IQR) & (New_data.Frequency <= Q3 + 1.5*IQR)]"
   ]
  },
  {
   "cell_type": "code",
   "execution_count": 20,
   "id": "8ed01b33",
   "metadata": {},
   "outputs": [
    {
     "name": "stdout",
     "output_type": "stream",
     "text": [
      "(4294, 4)\n"
     ]
    }
   ],
   "source": [
    "print(New_data.shape)"
   ]
  },
  {
   "cell_type": "code",
   "execution_count": 21,
   "id": "97416734",
   "metadata": {},
   "outputs": [],
   "source": [
    "#scaling\n",
    "X = New_data[['Amount', 'Frequency', 'Recency']]\n",
    "scaler = MinMaxScaler()\n",
    "New_data_scaled = scaler.fit_transform(X)"
   ]
  },
  {
   "cell_type": "code",
   "execution_count": 23,
   "id": "39921f06",
   "metadata": {},
   "outputs": [
    {
     "data": {
      "text/html": [
       "<div>\n",
       "<style scoped>\n",
       "    .dataframe tbody tr th:only-of-type {\n",
       "        vertical-align: middle;\n",
       "    }\n",
       "\n",
       "    .dataframe tbody tr th {\n",
       "        vertical-align: top;\n",
       "    }\n",
       "\n",
       "    .dataframe thead th {\n",
       "        text-align: right;\n",
       "    }\n",
       "</style>\n",
       "<table border=\"1\" class=\"dataframe\">\n",
       "  <thead>\n",
       "    <tr style=\"text-align: right;\">\n",
       "      <th></th>\n",
       "      <th>Amount</th>\n",
       "      <th>Frequency</th>\n",
       "      <th>Recency</th>\n",
       "    </tr>\n",
       "  </thead>\n",
       "  <tbody>\n",
       "    <tr>\n",
       "      <th>0</th>\n",
       "      <td>0.235148</td>\n",
       "      <td>0.001395</td>\n",
       "      <td>0.871314</td>\n",
       "    </tr>\n",
       "    <tr>\n",
       "      <th>1</th>\n",
       "      <td>0.471523</td>\n",
       "      <td>0.252441</td>\n",
       "      <td>0.002681</td>\n",
       "    </tr>\n",
       "    <tr>\n",
       "      <th>2</th>\n",
       "      <td>0.333714</td>\n",
       "      <td>0.041841</td>\n",
       "      <td>0.198391</td>\n",
       "    </tr>\n",
       "    <tr>\n",
       "      <th>3</th>\n",
       "      <td>0.331538</td>\n",
       "      <td>0.100418</td>\n",
       "      <td>0.048257</td>\n",
       "    </tr>\n",
       "    <tr>\n",
       "      <th>4</th>\n",
       "      <td>0.253487</td>\n",
       "      <td>0.022315</td>\n",
       "      <td>0.828418</td>\n",
       "    </tr>\n",
       "  </tbody>\n",
       "</table>\n",
       "</div>"
      ],
      "text/plain": [
       "     Amount  Frequency   Recency\n",
       "0  0.235148   0.001395  0.871314\n",
       "1  0.471523   0.252441  0.002681\n",
       "2  0.333714   0.041841  0.198391\n",
       "3  0.331538   0.100418  0.048257\n",
       "4  0.253487   0.022315  0.828418"
      ]
     },
     "execution_count": 23,
     "metadata": {},
     "output_type": "execute_result"
    }
   ],
   "source": [
    "New_data_scaled = pd.DataFrame(New_data_scaled)\n",
    "New_data_scaled.columns = ['Amount', 'Frequency', 'Recency']\n",
    "New_data_scaled.head()"
   ]
  },
  {
   "cell_type": "code",
   "execution_count": 38,
   "id": "2fd710fc",
   "metadata": {},
   "outputs": [],
   "source": [
    "#Apply PCA\n",
    "pca = PCA(n_components=3)  # Choose the number of components\n",
    "rfm_ds_final_pca = pca.fit_transform(New_data_scaled)"
   ]
  },
  {
   "cell_type": "code",
   "execution_count": 39,
   "id": "9fb052b5",
   "metadata": {},
   "outputs": [
    {
     "name": "stdout",
     "output_type": "stream",
     "text": [
      "Explained Variance Ratio: [0.90756442 0.06205163 0.02157766]\n"
     ]
    }
   ],
   "source": [
    "# Optional: Check the explained variance ratio\n",
    "print(\"Explained Variance Ratio:\", pca.explained_variance_ratio_)\n",
    "\n",
    "# Step 3: Transform Data\n",
    "rfm_ds_final_pca_df = pd.DataFrame(data=rfm_ds_final_pca, columns=['PC1', 'PC2','PC3'])"
   ]
  },
  {
   "cell_type": "code",
   "execution_count": 53,
   "id": "3d103f29",
   "metadata": {},
   "outputs": [
    {
     "name": "stderr",
     "output_type": "stream",
     "text": [
      "C:\\Users\\Ziad\\anaconda3\\envs\\vision\\lib\\site-packages\\sklearn\\cluster\\_kmeans.py:870: FutureWarning: The default value of `n_init` will change from 10 to 'auto' in 1.4. Set the value of `n_init` explicitly to suppress the warning\n",
      "  warnings.warn(\n",
      "C:\\Users\\Ziad\\anaconda3\\envs\\vision\\lib\\site-packages\\sklearn\\cluster\\_kmeans.py:870: FutureWarning: The default value of `n_init` will change from 10 to 'auto' in 1.4. Set the value of `n_init` explicitly to suppress the warning\n",
      "  warnings.warn(\n",
      "C:\\Users\\Ziad\\anaconda3\\envs\\vision\\lib\\site-packages\\sklearn\\cluster\\_kmeans.py:870: FutureWarning: The default value of `n_init` will change from 10 to 'auto' in 1.4. Set the value of `n_init` explicitly to suppress the warning\n",
      "  warnings.warn(\n",
      "C:\\Users\\Ziad\\anaconda3\\envs\\vision\\lib\\site-packages\\sklearn\\cluster\\_kmeans.py:870: FutureWarning: The default value of `n_init` will change from 10 to 'auto' in 1.4. Set the value of `n_init` explicitly to suppress the warning\n",
      "  warnings.warn(\n",
      "C:\\Users\\Ziad\\anaconda3\\envs\\vision\\lib\\site-packages\\sklearn\\cluster\\_kmeans.py:870: FutureWarning: The default value of `n_init` will change from 10 to 'auto' in 1.4. Set the value of `n_init` explicitly to suppress the warning\n",
      "  warnings.warn(\n",
      "C:\\Users\\Ziad\\anaconda3\\envs\\vision\\lib\\site-packages\\sklearn\\cluster\\_kmeans.py:870: FutureWarning: The default value of `n_init` will change from 10 to 'auto' in 1.4. Set the value of `n_init` explicitly to suppress the warning\n",
      "  warnings.warn(\n",
      "C:\\Users\\Ziad\\anaconda3\\envs\\vision\\lib\\site-packages\\sklearn\\cluster\\_kmeans.py:870: FutureWarning: The default value of `n_init` will change from 10 to 'auto' in 1.4. Set the value of `n_init` explicitly to suppress the warning\n",
      "  warnings.warn(\n"
     ]
    },
    {
     "data": {
      "text/plain": [
       "[<matplotlib.lines.Line2D at 0x13f0f9eec10>]"
      ]
     },
     "execution_count": 53,
     "metadata": {},
     "output_type": "execute_result"
    },
    {
     "data": {
      "image/png": "[encoded data removed]",
      "text/plain": [
       "<Figure size 640x480 with 1 Axes>"
      ]
     },
     "metadata": {},
     "output_type": "display_data"
    }
   ],
   "source": [
    "wss = []\n",
    "range_n_clusters = [2, 3, 4, 5, 6, 7, 8]\n",
    "for num_clusters in range_n_clusters:\n",
    "    kmeans = KMeans(n_clusters=num_clusters, max_iter=50)\n",
    "    kmeans.fit(New_data_scaled)\n",
    "    wss.append(kmeans.inertia_)\n",
    "    \n",
    "plt.plot(wss)"
   ]
  },
  {
   "cell_type": "code",
   "execution_count": 59,
   "id": "0eb7a73f",
   "metadata": {},
   "outputs": [
    {
     "name": "stdout",
     "output_type": "stream",
     "text": [
      "from the graph the best number of clusters will be 2 groups\n"
     ]
    }
   ],
   "source": [
    "print('from the graph the best number of clusters will be 2 groups')"
   ]
  },
  {
   "cell_type": "markdown",
   "id": "ddf80b67",
   "metadata": {},
   "source": [
    "<h1>Silhouette Analysis<h1>"
   ]
  },
  {
   "cell_type": "markdown",
   "id": "83ce6316",
   "metadata": {},
   "source": [
    "silhouette score=𝑝−𝑞/𝑚𝑎𝑥(𝑝,𝑞)\n",
    "\n",
    "𝑝 is the mean distance to the points in the nearest cluster that the data point is not a part of\n",
    "\n",
    "𝑞 is the mean intra-cluster distance to all the points in its own cluster.\n",
    "\n",
    "The value of the silhouette score range lies between -1 to 1.\n",
    "\n",
    "A score closer to 1 indicates that the data point is very similar to other data points in the cluster,\n",
    "\n",
    "A score closer to -1 indicates that the data point is not similar to the data points in its cluster."
   ]
  },
  {
   "cell_type": "code",
   "execution_count": 54,
   "id": "eaa99415",
   "metadata": {},
   "outputs": [
    {
     "name": "stderr",
     "output_type": "stream",
     "text": [
      "C:\\Users\\Ziad\\anaconda3\\envs\\vision\\lib\\site-packages\\sklearn\\cluster\\_kmeans.py:870: FutureWarning: The default value of `n_init` will change from 10 to 'auto' in 1.4. Set the value of `n_init` explicitly to suppress the warning\n",
      "  warnings.warn(\n"
     ]
    },
    {
     "name": "stdout",
     "output_type": "stream",
     "text": [
      "For n_clusters=2, the silhouette score is 0.7885409931051954\n"
     ]
    },
    {
     "name": "stderr",
     "output_type": "stream",
     "text": [
      "C:\\Users\\Ziad\\anaconda3\\envs\\vision\\lib\\site-packages\\sklearn\\cluster\\_kmeans.py:870: FutureWarning: The default value of `n_init` will change from 10 to 'auto' in 1.4. Set the value of `n_init` explicitly to suppress the warning\n",
      "  warnings.warn(\n"
     ]
    },
    {
     "name": "stdout",
     "output_type": "stream",
     "text": [
      "For n_clusters=3, the silhouette score is 0.8331298538659824\n"
     ]
    },
    {
     "name": "stderr",
     "output_type": "stream",
     "text": [
      "C:\\Users\\Ziad\\anaconda3\\envs\\vision\\lib\\site-packages\\sklearn\\cluster\\_kmeans.py:870: FutureWarning: The default value of `n_init` will change from 10 to 'auto' in 1.4. Set the value of `n_init` explicitly to suppress the warning\n",
      "  warnings.warn(\n"
     ]
    },
    {
     "name": "stdout",
     "output_type": "stream",
     "text": [
      "For n_clusters=4, the silhouette score is 0.764871945705041\n"
     ]
    },
    {
     "name": "stderr",
     "output_type": "stream",
     "text": [
      "C:\\Users\\Ziad\\anaconda3\\envs\\vision\\lib\\site-packages\\sklearn\\cluster\\_kmeans.py:870: FutureWarning: The default value of `n_init` will change from 10 to 'auto' in 1.4. Set the value of `n_init` explicitly to suppress the warning\n",
      "  warnings.warn(\n"
     ]
    },
    {
     "name": "stdout",
     "output_type": "stream",
     "text": [
      "For n_clusters=5, the silhouette score is 0.48672498330580954\n"
     ]
    },
    {
     "name": "stderr",
     "output_type": "stream",
     "text": [
      "C:\\Users\\Ziad\\anaconda3\\envs\\vision\\lib\\site-packages\\sklearn\\cluster\\_kmeans.py:870: FutureWarning: The default value of `n_init` will change from 10 to 'auto' in 1.4. Set the value of `n_init` explicitly to suppress the warning\n",
      "  warnings.warn(\n"
     ]
    },
    {
     "name": "stdout",
     "output_type": "stream",
     "text": [
      "For n_clusters=6, the silhouette score is 0.45206313319915775\n"
     ]
    },
    {
     "name": "stderr",
     "output_type": "stream",
     "text": [
      "C:\\Users\\Ziad\\anaconda3\\envs\\vision\\lib\\site-packages\\sklearn\\cluster\\_kmeans.py:870: FutureWarning: The default value of `n_init` will change from 10 to 'auto' in 1.4. Set the value of `n_init` explicitly to suppress the warning\n",
      "  warnings.warn(\n"
     ]
    },
    {
     "name": "stdout",
     "output_type": "stream",
     "text": [
      "For n_clusters=7, the silhouette score is 0.4331609362719618\n"
     ]
    },
    {
     "name": "stderr",
     "output_type": "stream",
     "text": [
      "C:\\Users\\Ziad\\anaconda3\\envs\\vision\\lib\\site-packages\\sklearn\\cluster\\_kmeans.py:870: FutureWarning: The default value of `n_init` will change from 10 to 'auto' in 1.4. Set the value of `n_init` explicitly to suppress the warning\n",
      "  warnings.warn(\n"
     ]
    },
    {
     "name": "stdout",
     "output_type": "stream",
     "text": [
      "For n_clusters=8, the silhouette score is 0.4204638858251661\n"
     ]
    }
   ],
   "source": [
    "#silhouette score\n",
    "range_n_clusters = [2, 3, 4, 5, 6, 7, 8]\n",
    "for num_clusters in range_n_clusters:\n",
    "    kmeans = KMeans(n_clusters=num_clusters, max_iter=50)\n",
    "    kmeans.fit(New_data_scaled)\n",
    "    cluster_labels = kmeans.labels_\n",
    "    silhouette_avg = silhouette_score(New_data_scaled, cluster_labels)\n",
    "    print(\"For n_clusters={0}, the silhouette score is {1}\".format(num_clusters, silhouette_avg))\n"
   ]
  },
  {
   "cell_type": "code",
   "execution_count": 60,
   "id": "d838c576",
   "metadata": {},
   "outputs": [
    {
     "name": "stdout",
     "output_type": "stream",
     "text": [
      "[1 1 0 ... 1 0 0]\n"
     ]
    },
    {
     "name": "stderr",
     "output_type": "stream",
     "text": [
      "C:\\Users\\Ziad\\anaconda3\\envs\\vision\\lib\\site-packages\\sklearn\\cluster\\_kmeans.py:870: FutureWarning: The default value of `n_init` will change from 10 to 'auto' in 1.4. Set the value of `n_init` explicitly to suppress the warning\n",
      "  warnings.warn(\n"
     ]
    },
    {
     "data": {
      "text/html": [
       "<div>\n",
       "<style scoped>\n",
       "    .dataframe tbody tr th:only-of-type {\n",
       "        vertical-align: middle;\n",
       "    }\n",
       "\n",
       "    .dataframe tbody tr th {\n",
       "        vertical-align: top;\n",
       "    }\n",
       "\n",
       "    .dataframe thead th {\n",
       "        text-align: right;\n",
       "    }\n",
       "</style>\n",
       "<table border=\"1\" class=\"dataframe\">\n",
       "  <thead>\n",
       "    <tr style=\"text-align: right;\">\n",
       "      <th></th>\n",
       "      <th>Amount</th>\n",
       "      <th>Frequency</th>\n",
       "      <th>Recency</th>\n",
       "      <th>Cluster_Id</th>\n",
       "    </tr>\n",
       "  </thead>\n",
       "  <tbody>\n",
       "    <tr>\n",
       "      <th>0</th>\n",
       "      <td>0.235148</td>\n",
       "      <td>0.001395</td>\n",
       "      <td>0.871314</td>\n",
       "      <td>1</td>\n",
       "    </tr>\n",
       "    <tr>\n",
       "      <th>1</th>\n",
       "      <td>0.471523</td>\n",
       "      <td>0.252441</td>\n",
       "      <td>0.002681</td>\n",
       "      <td>1</td>\n",
       "    </tr>\n",
       "    <tr>\n",
       "      <th>2</th>\n",
       "      <td>0.333714</td>\n",
       "      <td>0.041841</td>\n",
       "      <td>0.198391</td>\n",
       "      <td>0</td>\n",
       "    </tr>\n",
       "    <tr>\n",
       "      <th>3</th>\n",
       "      <td>0.331538</td>\n",
       "      <td>0.100418</td>\n",
       "      <td>0.048257</td>\n",
       "      <td>0</td>\n",
       "    </tr>\n",
       "    <tr>\n",
       "      <th>4</th>\n",
       "      <td>0.253487</td>\n",
       "      <td>0.022315</td>\n",
       "      <td>0.828418</td>\n",
       "      <td>1</td>\n",
       "    </tr>\n",
       "  </tbody>\n",
       "</table>\n",
       "</div>"
      ],
      "text/plain": [
       "     Amount  Frequency   Recency  Cluster_Id\n",
       "0  0.235148   0.001395  0.871314           1\n",
       "1  0.471523   0.252441  0.002681           1\n",
       "2  0.333714   0.041841  0.198391           0\n",
       "3  0.331538   0.100418  0.048257           0\n",
       "4  0.253487   0.022315  0.828418           1"
      ]
     },
     "execution_count": 60,
     "metadata": {},
     "output_type": "execute_result"
    }
   ],
   "source": [
    "kmeans = KMeans(n_clusters=2, max_iter=50)\n",
    "kmeans.fit(New_data_scaled)\n",
    "print(kmeans.labels_)\n",
    "New_data_scaled['Cluster_Id'] = kmeans.labels_\n",
    "New_data_scaled.head()"
   ]
  },
  {
   "cell_type": "code",
   "execution_count": 56,
   "id": "5467f79f",
   "metadata": {},
   "outputs": [
    {
     "data": {
      "text/plain": [
       "<AxesSubplot: xlabel='Cluster_Id', ylabel='Amount'>"
      ]
     },
     "execution_count": 56,
     "metadata": {},
     "output_type": "execute_result"
    },
    {
     "data": {
      "image/png": "[encoded data removed]",
      "text/plain": [
       "<Figure size 640x480 with 1 Axes>"
      ]
     },
     "metadata": {},
     "output_type": "display_data"
    }
   ],
   "source": [
    "sns.boxplot(x='Cluster_Id', y='Amount', data=New_data_scaled)"
   ]
  },
  {
   "cell_type": "code",
   "execution_count": 61,
   "id": "642c57e5",
   "metadata": {},
   "outputs": [
    {
     "name": "stdout",
     "output_type": "stream",
     "text": [
      "it is clear that the most group buy a lot of prodects in cluster 2 then 0 then 1\n"
     ]
    }
   ],
   "source": [
    "print('it is clear that the most group buy a lot of prodects in cluster 2 then 0 then 1')"
   ]
  },
  {
   "cell_type": "code",
   "execution_count": 57,
   "id": "06bd3f29",
   "metadata": {},
   "outputs": [
    {
     "data": {
      "text/plain": [
       "<AxesSubplot: xlabel='Cluster_Id', ylabel='Frequency'>"
      ]
     },
     "execution_count": 57,
     "metadata": {},
     "output_type": "execute_result"
    },
    {
     "data": {
      "image/png": "[encoded data removed]",
      "text/plain": [
       "<Figure size 640x480 with 1 Axes>"
      ]
     },
     "metadata": {},
     "output_type": "display_data"
    }
   ],
   "source": [
    "sns.boxplot(x='Cluster_Id', y='Frequency', data=New_data_scaled)"
   ]
  },
  {
   "cell_type": "code",
   "execution_count": 62,
   "id": "9a75cd86",
   "metadata": {},
   "outputs": [
    {
     "name": "stdout",
     "output_type": "stream",
     "text": [
      "it is clear that the most group has the most great value of frequency is cluster 2 then 0 then 1\n"
     ]
    }
   ],
   "source": [
    "print('it is clear that the most group has the most great value of frequency is cluster 2 then 0 then 1')"
   ]
  },
  {
   "cell_type": "code",
   "execution_count": 58,
   "id": "3d1dbd82",
   "metadata": {},
   "outputs": [
    {
     "data": {
      "text/plain": [
       "<AxesSubplot: xlabel='Cluster_Id', ylabel='Recency'>"
      ]
     },
     "execution_count": 58,
     "metadata": {},
     "output_type": "execute_result"
    },
    {
     "data": {
      "image/png": "[encoded data removed]",
      "text/plain": [
       "<Figure size 640x480 with 1 Axes>"
      ]
     },
     "metadata": {},
     "output_type": "display_data"
    }
   ],
   "source": [
    "sns.boxplot(x='Cluster_Id', y='Recency', data=New_data_scaled)"
   ]
  },
  {
   "cell_type": "code",
   "execution_count": 63,
   "id": "4990fd5b",
   "metadata": {},
   "outputs": [
    {
     "name": "stdout",
     "output_type": "stream",
     "text": [
      "it is clear that the most group who make the most recent process of buying is in cluster number 1 then number 0 then number 2\n"
     ]
    }
   ],
   "source": [
    "print('it is clear that the most group who make the most recent process of buying is in cluster number 1 then number 0 then number 2')"
   ]
  },
  {
   "cell_type": "code",
   "execution_count": null,
   "id": "d73bc3d7",
   "metadata": {},
   "outputs": [],
   "source": []
  },
  {
   "cell_type": "code",
   "execution_count": null,
   "id": "23fa75e4",
   "metadata": {},
   "outputs": [],
   "source": []
  }
 ],
 "metadata": {
  "kernelspec": {
   "display_name": "vision",
   "language": "python",
   "name": "vision"
  },
  "language_info": {
   "codemirror_mode": {
    "name": "ipython",
    "version": 3
   },
   "file_extension": ".py",
   "mimetype": "text/x-python",
   "name": "python",
   "nbconvert_exporter": "python",
   "pygments_lexer": "ipython3",
   "version": "3.8.18"
  }
 },
 "nbformat": 4,
 "nbformat_minor": 5
}
